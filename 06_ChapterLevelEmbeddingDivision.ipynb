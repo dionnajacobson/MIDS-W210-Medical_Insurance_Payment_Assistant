{
 "cells": [
  {
   "cell_type": "code",
   "execution_count": 2,
   "metadata": {},
   "outputs": [],
   "source": [
    "import pandas as pd\n",
    "import numpy as np\n",
    "import logging\n",
    "import matplotlib.pyplot as plt\n",
    "import pickle \n",
    "import _pickle as cPickle\n",
    "import time\n",
    "import boto3"
   ]
  },
  {
   "cell_type": "code",
   "execution_count": 3,
   "metadata": {},
   "outputs": [
    {
     "data": {
      "text/plain": [
       "Index(['HADM_ID', '001_139', '140_239', '240_279', '280_289', '290_319',\n",
       "       '320_389', '390_459', '460_519', '520_579', '580_629',\n",
       "       '630_679__740_759__760_779', '680_709', '710_739', '780_799', '800_999',\n",
       "       'E_V'],\n",
       "      dtype='object')"
      ]
     },
     "execution_count": 3,
     "metadata": {},
     "output_type": "execute_result"
    }
   ],
   "source": [
    "chapterLabelDF = pd.read_csv(\"chapter_label.csv\").astype({'HADM_ID': 'str'})\n",
    "chapterLabelDF.columns"
   ]
  },
  {
   "cell_type": "code",
   "execution_count": 4,
   "metadata": {},
   "outputs": [
    {
     "name": "stdout",
     "output_type": "stream",
     "text": [
      "Chapter : # of HADM_ID\n",
      "001_139 : 14535\n",
      "140_239 : 8912\n",
      "240_279 : 35606\n",
      "280_289 : 19366\n",
      "290_319 : 16245\n",
      "320_389 : 15828\n",
      "390_459 : 42650\n",
      "460_519 : 25260\n",
      "520_579 : 21010\n",
      "580_629 : 21779\n",
      "630_679__740_759__760_779 : 7619\n",
      "680_709 : 6076\n",
      "710_739 : 10053\n",
      "780_799 : 20182\n",
      "800_999 : 22686\n",
      "E_V : 41887\n"
     ]
    }
   ],
   "source": [
    "chapterLabelsHADMMap = {}\n",
    "for col in chapterLabelDF.columns[1:]:\n",
    "    #print(col)\n",
    "    chapterLabelsHADMMap[col]=chapterLabelDF.loc[chapterLabelDF[col]==1,'HADM_ID']\n",
    "    \n",
    "print(\"Chapter : # of HADM_ID\")\n",
    "for key in chapterLabelsHADMMap.keys():\n",
    "    print(key,\":\",len(chapterLabelsHADMMap[key]))"
   ]
  },
  {
   "cell_type": "code",
   "execution_count": 5,
   "metadata": {},
   "outputs": [],
   "source": [
    "def loadFromS3(embeddingFileName):\n",
    "    # https://w210-mimic.s3.amazonaws.com/embeddings1\n",
    "    now = time.time()\n",
    "    print(\"Starting Load for File\",embeddingFileName)\n",
    "    embeddings = {}\n",
    "    session = boto3.session.Session(region_name='us-east-1')\n",
    "    s3client = session.client('s3')\n",
    "    response = s3client.get_object(Bucket='w210-mimic', Key=embeddingFileName)\n",
    "    body_string = response['Body'].read()\n",
    "    embeddings.update(cPickle.loads(body_string))\n",
    "    with open(embeddingFileName, 'wb') as handle:\n",
    "        pickle.dump(embeddings, handle, protocol=pickle.HIGHEST_PROTOCOL)\n",
    "    print(\"File Loaded in:\", time.time()-now)\n",
    "    \n",
    "    return embeddings\n",
    "\n",
    "def LoadFromDisk(embeddingFileName, directory=\"embeddings\"):\n",
    "    embeddingFileHandle = open(directory+\"/\"+embeddingFileName, 'rb')\n",
    "    return embeddingFileHandle"
   ]
  },
  {
   "cell_type": "code",
   "execution_count": null,
   "metadata": {},
   "outputs": [
    {
     "name": "stdout",
     "output_type": "stream",
     "text": [
      "embeddings6\n"
     ]
    }
   ],
   "source": [
    "#'embeddings1', 'embeddings2', 'embeddings3', 'embeddings4', 'embeddings5',\n",
    "for embeddingFile in [ 'embeddings6']:\n",
    "    print(embeddingFile)\n",
    "    #data = LoadFromS3(embeddingFile)\n",
    "    dataHandle =  LoadFromDisk(embeddingFile)\n",
    "    #data = cPickle.load(dataHandle)\n",
    "    dataP = pickle.Unpickler(dataHandle)\n",
    "    data = dataP.load()\n",
    "    #data = np.load(dataHandle,mmap_mode=\"r\",allow_pickle=True)\n",
    "    '''lineCount=0\n",
    "    lineLimit=100\n",
    "    while True:\n",
    "        lines = dataHandle.readlines(10)\n",
    "        if lines is None:\n",
    "            breakl;\n",
    "            \n",
    "        for line in lines:\n",
    "            print(line)\n",
    "            lineCount = lineCount+1\n",
    "            \n",
    "        if lineCount > lineLimit:\n",
    "            break'''\n",
    "    \n",
    "    #dataHandle = loadFromS3(embeddingFile)\n",
    "        \n",
    "\n",
    "    #data = np.array(list(data.items()))"
   ]
  },
  {
   "cell_type": "code",
   "execution_count": null,
   "metadata": {},
   "outputs": [],
   "source": [
    "with open(\"embeddings/embeddings6.4\", \"wb\") as filetoWrite: \n",
    "    with open(\"embeddings/embeddings6\", \"rb\") as fileToRead:\n",
    "        pickle.dump(pickle.load(fileToRead), filetoWrite, protocol=-1)"
   ]
  },
  {
   "cell_type": "code",
   "execution_count": 12,
   "metadata": {},
   "outputs": [
    {
     "ename": "KeyboardInterrupt",
     "evalue": "",
     "output_type": "error",
     "traceback": [
      "\u001b[0;31m---------------------------------------------------------------------------\u001b[0m",
      "\u001b[0;31mKeyboardInterrupt\u001b[0m                         Traceback (most recent call last)",
      "\u001b[0;32m<ipython-input-12-de2577d244b5>\u001b[0m in \u001b[0;36m<module>\u001b[0;34m\u001b[0m\n\u001b[1;32m      3\u001b[0m     \u001b[0;32mwith\u001b[0m \u001b[0mopen\u001b[0m\u001b[0;34m(\u001b[0m\u001b[0;34m\"embeddings/embeddings6\"\u001b[0m\u001b[0;34m,\u001b[0m \u001b[0;34m\"rb\"\u001b[0m\u001b[0;34m)\u001b[0m \u001b[0;32mas\u001b[0m \u001b[0mfileToRead\u001b[0m\u001b[0;34m:\u001b[0m\u001b[0;34m\u001b[0m\u001b[0;34m\u001b[0m\u001b[0m\n\u001b[1;32m      4\u001b[0m         \u001b[0;32mwhile\u001b[0m \u001b[0;32mTrue\u001b[0m\u001b[0;34m:\u001b[0m\u001b[0;34m\u001b[0m\u001b[0;34m\u001b[0m\u001b[0m\n\u001b[0;32m----> 5\u001b[0;31m             \u001b[0mlines\u001b[0m \u001b[0;34m=\u001b[0m \u001b[0mfileToRead\u001b[0m\u001b[0;34m.\u001b[0m\u001b[0mreadlines\u001b[0m\u001b[0;34m(\u001b[0m\u001b[0;36m100000\u001b[0m\u001b[0;34m)\u001b[0m\u001b[0;34m\u001b[0m\u001b[0;34m\u001b[0m\u001b[0m\n\u001b[0m\u001b[1;32m      6\u001b[0m             \u001b[0;32mif\u001b[0m \u001b[0mlines\u001b[0m \u001b[0;32mis\u001b[0m \u001b[0;32mNone\u001b[0m\u001b[0;34m:\u001b[0m\u001b[0;34m\u001b[0m\u001b[0;34m\u001b[0m\u001b[0m\n\u001b[1;32m      7\u001b[0m                 \u001b[0;32mbreak\u001b[0m\u001b[0;34m;\u001b[0m\u001b[0;34m\u001b[0m\u001b[0;34m\u001b[0m\u001b[0m\n",
      "\u001b[0;31mKeyboardInterrupt\u001b[0m: "
     ]
    }
   ],
   "source": [
    "lineCount=0\n",
    "with open(\"embeddings/embeddings6.4.1\", \"ab\") as filetoWrite: \n",
    "    with open(\"embeddings/embeddings6\", \"rb\") as fileToRead:\n",
    "        while True:\n",
    "            lines = fileToRead.readlines(100000)\n",
    "            if lines is None:\n",
    "                break;\n",
    "\n",
    "            pickle.dump(lines, filetoWrite, protocol=4)\n",
    "\n",
    "        "
   ]
  }
 ],
 "metadata": {
  "kernelspec": {
   "display_name": "conda_python3",
   "language": "python",
   "name": "conda_python3"
  },
  "language_info": {
   "codemirror_mode": {
    "name": "ipython",
    "version": 3
   },
   "file_extension": ".py",
   "mimetype": "text/x-python",
   "name": "python",
   "nbconvert_exporter": "python",
   "pygments_lexer": "ipython3",
   "version": "3.6.10"
  }
 },
 "nbformat": 4,
 "nbformat_minor": 4
}
