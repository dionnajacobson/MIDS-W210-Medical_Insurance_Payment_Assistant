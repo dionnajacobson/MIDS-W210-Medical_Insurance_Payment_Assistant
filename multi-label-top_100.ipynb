{
 "cells": [
  {
   "cell_type": "code",
   "execution_count": null,
   "metadata": {},
   "outputs": [],
   "source": [
    "# Based on code from the following link:\n",
    "# https://towardsdatascience.com/multi-label-classification-using-bert-roberta-xlnet-xlm-and-distilbert-with-simple-transformers-b3e0cda12ce5"
   ]
  },
  {
   "cell_type": "code",
   "execution_count": null,
   "metadata": {},
   "outputs": [],
   "source": [
    "#!pip install simpletransformers==0.34.4"
   ]
  },
  {
   "cell_type": "code",
   "execution_count": null,
   "metadata": {},
   "outputs": [],
   "source": [
    "# import keras\n",
    "# keras.__version__"
   ]
  },
  {
   "cell_type": "code",
   "execution_count": null,
   "metadata": {},
   "outputs": [],
   "source": [
    "# import tensorflow\n",
    "# tensorflow.__version__"
   ]
  },
  {
   "cell_type": "code",
   "execution_count": null,
   "metadata": {},
   "outputs": [],
   "source": [
    "# import torch\n",
    "# torch.__version__"
   ]
  },
  {
   "cell_type": "code",
   "execution_count": null,
   "metadata": {},
   "outputs": [],
   "source": [
    "# !jupyter --version"
   ]
  },
  {
   "cell_type": "code",
   "execution_count": null,
   "metadata": {},
   "outputs": [],
   "source": [
    "# !pip install scikit-learn==0.23.1"
   ]
  },
  {
   "cell_type": "code",
   "execution_count": null,
   "metadata": {},
   "outputs": [],
   "source": [
    "# !pip install pandas==1.0.5"
   ]
  },
  {
   "cell_type": "code",
   "execution_count": null,
   "metadata": {},
   "outputs": [],
   "source": [
    "# !pip show simpletransformers "
   ]
  },
  {
   "cell_type": "code",
   "execution_count": null,
   "metadata": {},
   "outputs": [],
   "source": [
    "# import sklearn\n",
    "# sklearn.__version__"
   ]
  },
  {
   "cell_type": "code",
   "execution_count": 1,
   "metadata": {},
   "outputs": [],
   "source": [
    "import pandas as pd\n",
    "#from simpletransformers.classification import MultiLabelClassificationModel\n",
    "import ast"
   ]
  },
  {
   "cell_type": "code",
   "execution_count": 2,
   "metadata": {},
   "outputs": [],
   "source": [
    "from simpletransformers.experimental.classification import MultiLabelClassificationModel"
   ]
  },
  {
   "cell_type": "markdown",
   "metadata": {},
   "source": [
    "# Model Training"
   ]
  },
  {
   "cell_type": "code",
   "execution_count": 3,
   "metadata": {},
   "outputs": [],
   "source": [
    "df = pd.read_csv('./train.tsv', sep='\\t')"
   ]
  },
  {
   "cell_type": "code",
   "execution_count": null,
   "metadata": {},
   "outputs": [],
   "source": [
    "df.labels = df.labels.apply(eval)"
   ]
  },
  {
   "cell_type": "code",
   "execution_count": null,
   "metadata": {},
   "outputs": [],
   "source": [
    "model = MultiLabelClassificationModel('bert', \"emilyalsentzer/Bio_ClinicalBERT\", num_labels=124, \n",
    "                                      args={'train_batch_size':4,\n",
    "                                            'gradient_accumulation_steps':16,\n",
    "                                            'learning_rate': 3e-5,\n",
    "                                            'num_train_epochs': 3,\n",
    "                                            'max_seq_length': 512,\n",
    "                                            'reprocess_input_data': True,\n",
    "                                            'overwrite_output_dir': True})"
   ]
  },
  {
   "cell_type": "code",
   "execution_count": null,
   "metadata": {
    "scrolled": false
   },
   "outputs": [],
   "source": [
    "model.train_model(df)"
   ]
  },
  {
   "cell_type": "markdown",
   "metadata": {},
   "source": [
    "# Sliding Window Experimental Model Training"
   ]
  },
  {
   "cell_type": "code",
   "execution_count": 1,
   "metadata": {},
   "outputs": [],
   "source": [
    "import pandas as pd\n",
    "#from simpletransformers.classification import MultiLabelClassificationModel\n",
    "import ast\n",
    "from simpletransformers.experimental.classification import MultiLabelClassificationModel\n",
    "\n",
    "df = pd.read_csv('./train.tsv', sep='\\t')\n",
    "df.labels = df.labels.apply(eval)"
   ]
  },
  {
   "cell_type": "code",
   "execution_count": 2,
   "metadata": {},
   "outputs": [],
   "source": [
    "model = MultiLabelClassificationModel('bert', \"emilyalsentzer/Bio_ClinicalBERT\", num_labels=124, \n",
    "                                      args={'train_batch_size':4,\n",
    "                                            'sliding_window': True,\n",
    "                                            'stride': 0.8,\n",
    "                                            'gradient_accumulation_steps':16,\n",
    "                                            'learning_rate': 3e-5,\n",
    "                                            'num_train_epochs': 3,\n",
    "                                            'max_seq_length': 512,\n",
    "                                            'reprocess_input_data': True,\n",
    "                                            'overwrite_output_dir': True,\n",
    "                                            'no_cache': True,\n",
    "                                            'multiprocessing_chunksize': 410,\n",
    "                                           'tensorboard_dir':'./outputs/',\n",
    "                                           'wandb_project': False,\n",
    "                                           'save_model_every_epoch': True,\n",
    "                                           'no_save': False,\n",
    "                                           'save_optimizer_and_scheduler': True})"
   ]
  },
  {
   "cell_type": "code",
   "execution_count": 3,
   "metadata": {
    "scrolled": false
   },
   "outputs": [
    {
     "data": {
      "application/vnd.jupyter.widget-view+json": {
       "model_id": "ba0c3c554a624669b479907889e92e4d",
       "version_major": 2,
       "version_minor": 0
      },
      "text/plain": [
       "HBox(children=(FloatProgress(value=0.0, max=51868.0), HTML(value='')))"
      ]
     },
     "metadata": {},
     "output_type": "display_data"
    },
    {
     "name": "stdout",
     "output_type": "stream",
     "text": [
      "\n"
     ]
    },
    {
     "data": {
      "application/vnd.jupyter.widget-view+json": {
       "model_id": "eec0ae732cb84c49851158028714f65b",
       "version_major": 2,
       "version_minor": 0
      },
      "text/plain": [
       "HBox(children=(FloatProgress(value=0.0, description='Epoch', max=3.0, style=ProgressStyle(description_width='i…"
      ]
     },
     "metadata": {},
     "output_type": "display_data"
    },
    {
     "data": {
      "application/vnd.jupyter.widget-view+json": {
       "model_id": "e28bcbe0efcd47068836fd19e084ca58",
       "version_major": 2,
       "version_minor": 0
      },
      "text/plain": [
       "HBox(children=(FloatProgress(value=0.0, description='Current iteration', max=511638.0, style=ProgressStyle(des…"
      ]
     },
     "metadata": {},
     "output_type": "display_data"
    },
    {
     "name": "stdout",
     "output_type": "stream",
     "text": [
      "Running loss: 0.724157"
     ]
    },
    {
     "name": "stderr",
     "output_type": "stream",
     "text": [
      "C:\\Users\\brent\\anaconda3\\lib\\site-packages\\torch\\optim\\lr_scheduler.py:231: UserWarning: To get the last learning rate computed by the scheduler, please use `get_last_lr()`.\n",
      "  warnings.warn(\"To get the last learning rate computed by the scheduler, \"\n"
     ]
    },
    {
     "name": "stdout",
     "output_type": "stream",
     "text": [
      "Running loss: -0.383459"
     ]
    },
    {
     "name": "stderr",
     "output_type": "stream",
     "text": [
      "C:\\Users\\brent\\anaconda3\\lib\\site-packages\\torch\\optim\\lr_scheduler.py:200: UserWarning: Please also save or load the state of the optimzer when saving or loading the scheduler.\n",
      "  warnings.warn(SAVE_STATE_WARNING, UserWarning)\n"
     ]
    },
    {
     "name": "stdout",
     "output_type": "stream",
     "text": [
      "Running loss: -48.270176\n"
     ]
    },
    {
     "data": {
      "application/vnd.jupyter.widget-view+json": {
       "model_id": "f32a2b6de18d4bc986e7f4f8f5f52fd2",
       "version_major": 2,
       "version_minor": 0
      },
      "text/plain": [
       "HBox(children=(FloatProgress(value=0.0, description='Current iteration', max=511638.0, style=ProgressStyle(des…"
      ]
     },
     "metadata": {},
     "output_type": "display_data"
    },
    {
     "name": "stdout",
     "output_type": "stream",
     "text": [
      "Running loss: -68.9806068\n"
     ]
    },
    {
     "data": {
      "application/vnd.jupyter.widget-view+json": {
       "model_id": "2625f224d6da459585db2e40f564866b",
       "version_major": 2,
       "version_minor": 0
      },
      "text/plain": [
       "HBox(children=(FloatProgress(value=0.0, description='Current iteration', max=511638.0, style=ProgressStyle(des…"
      ]
     },
     "metadata": {},
     "output_type": "display_data"
    },
    {
     "name": "stdout",
     "output_type": "stream",
     "text": [
      "Running loss: -57.6811602\n",
      "\n"
     ]
    }
   ],
   "source": [
    "model.train_model(df)"
   ]
  },
  {
   "cell_type": "markdown",
   "metadata": {},
   "source": [
    "# Model Evaluation"
   ]
  },
  {
   "cell_type": "code",
   "execution_count": 1,
   "metadata": {},
   "outputs": [],
   "source": [
    "import pandas as pd\n",
    "#from simpletransformers.classification import MultiLabelClassificationModel\n",
    "import ast\n",
    "from simpletransformers.experimental.classification import MultiLabelClassificationModel\n",
    "import sklearn"
   ]
  },
  {
   "cell_type": "code",
   "execution_count": 3,
   "metadata": {},
   "outputs": [],
   "source": [
    "model = MultiLabelClassificationModel('bert', \"./outputs/checkpoint-95931-epoch-3\", num_labels=124,\n",
    "                                      args={'train_batch_size':4,\n",
    "                                            'sliding_window': True,\n",
    "                                            'stride': 0.8,\n",
    "                                            'gradient_accumulation_steps':16,\n",
    "                                            'learning_rate': 3e-5,\n",
    "                                            'num_train_epochs': 3,\n",
    "                                            'max_seq_length': 512,\n",
    "                                            'reprocess_input_data': True,\n",
    "                                            'overwrite_output_dir': True,\n",
    "                                            'no_cache': True,\n",
    "                                            'multiprocessing_chunksize': 410,\n",
    "                                           'tensorboard_dir':'./outputs/',\n",
    "                                           'wandb_project': False,\n",
    "                                           'save_model_every_epoch': True,\n",
    "                                           'no_save': False,\n",
    "                                           'save_optimizer_and_scheduler': True})"
   ]
  },
  {
   "cell_type": "code",
   "execution_count": 4,
   "metadata": {},
   "outputs": [],
   "source": [
    "eval_df = pd.read_csv('./test.tsv', sep='\\t')\n",
    "eval_df.labels = eval_df.labels.apply(eval)"
   ]
  },
  {
   "cell_type": "code",
   "execution_count": 5,
   "metadata": {},
   "outputs": [
    {
     "data": {
      "application/vnd.jupyter.widget-view+json": {
       "model_id": "083d5c56a09f4d2e9e86ec6b45243915",
       "version_major": 2,
       "version_minor": 0
      },
      "text/plain": [
       "HBox(children=(FloatProgress(value=0.0, max=2882.0), HTML(value='')))"
      ]
     },
     "metadata": {},
     "output_type": "display_data"
    },
    {
     "name": "stdout",
     "output_type": "stream",
     "text": [
      "\n"
     ]
    },
    {
     "data": {
      "application/vnd.jupyter.widget-view+json": {
       "model_id": "2adfd1b392b24ef7a1770ff3f5d6e7f9",
       "version_major": 2,
       "version_minor": 0
      },
      "text/plain": [
       "HBox(children=(FloatProgress(value=0.0, max=14226.0), HTML(value='')))"
      ]
     },
     "metadata": {},
     "output_type": "display_data"
    },
    {
     "name": "stdout",
     "output_type": "stream",
     "text": [
      "\n"
     ]
    }
   ],
   "source": [
    "predictions, raw_outputs = model.predict(eval_df['text'])"
   ]
  },
  {
   "cell_type": "code",
   "execution_count": 151,
   "metadata": {},
   "outputs": [],
   "source": [
    "temp[temp>cut_off] = 1"
   ]
  },
  {
   "cell_type": "code",
   "execution_count": 153,
   "metadata": {},
   "outputs": [
    {
     "ename": "NameError",
     "evalue": "name 'cut_off' is not defined",
     "output_type": "error",
     "traceback": [
      "\u001b[1;31m---------------------------------------------------------------------------\u001b[0m",
      "\u001b[1;31mNameError\u001b[0m                                 Traceback (most recent call last)",
      "\u001b[1;32m<ipython-input-153-d73881091839>\u001b[0m in \u001b[0;36m<module>\u001b[1;34m\u001b[0m\n\u001b[1;32m----> 1\u001b[1;33m \u001b[0mtemp\u001b[0m\u001b[1;33m[\u001b[0m\u001b[0mtemp\u001b[0m\u001b[1;33m<=\u001b[0m\u001b[0mcut_off\u001b[0m\u001b[1;33m]\u001b[0m \u001b[1;33m=\u001b[0m \u001b[1;36m0\u001b[0m\u001b[1;33m\u001b[0m\u001b[1;33m\u001b[0m\u001b[0m\n\u001b[0m",
      "\u001b[1;31mNameError\u001b[0m: name 'cut_off' is not defined"
     ]
    }
   ],
   "source": [
    "temp[temp<=cut_off] = 0"
   ]
  },
  {
   "cell_type": "code",
   "execution_count": 152,
   "metadata": {},
   "outputs": [
    {
     "data": {
      "text/plain": [
       "array([1.00000000e+00, 1.00000000e+00, 1.00000000e+00, 1.00000000e+00,\n",
       "       1.00000000e+00, 1.00000000e+00, 1.93725273e-01, 1.00000000e+00,\n",
       "       1.00000000e+00, 4.63010430e-01, 4.52351540e-01, 1.00000000e+00,\n",
       "       1.00000000e+00, 1.00000000e+00, 1.00000000e+00, 2.64921645e-03,\n",
       "       2.45726556e-01, 2.48698726e-01, 3.63780782e-02, 6.20990977e-05,\n",
       "       1.00000000e+00, 1.00000000e+00, 1.00000000e+00, 6.26747459e-02,\n",
       "       1.36235490e-01, 2.28680093e-02, 1.12093553e-01, 1.85693994e-01,\n",
       "       5.31695001e-02, 8.80044475e-02, 1.77689031e-01, 4.84473296e-02,\n",
       "       1.02262601e-01, 9.28874686e-02, 1.35574982e-01, 1.39520885e-02,\n",
       "       2.93414760e-02, 3.72750387e-02, 5.90621941e-02, 3.95298190e-02,\n",
       "       3.54282185e-02, 1.15129501e-01, 4.02598232e-02, 1.35952204e-01,\n",
       "       9.99243855e-02, 5.29490672e-02, 3.52977812e-02, 6.60769939e-02,\n",
       "       7.09423274e-02, 6.69625774e-02, 3.64643894e-02, 3.63761872e-01,\n",
       "       9.08318013e-02, 6.29929677e-02, 7.75776729e-02, 1.78049151e-02,\n",
       "       6.10374473e-02, 3.27762626e-02, 2.11796179e-01, 6.30799383e-02,\n",
       "       5.20566106e-02, 4.88680415e-02, 3.92003581e-02, 4.47891541e-02,\n",
       "       3.06763172e-01, 3.88373435e-02, 4.89798710e-02, 6.04374669e-02,\n",
       "       3.20285439e-01, 3.30913179e-02, 3.75039540e-02, 2.54415981e-02,\n",
       "       2.76869461e-02, 4.80612442e-02, 4.57774512e-02, 1.46666735e-01,\n",
       "       4.16845828e-02, 9.68009979e-02, 1.27438426e-01, 1.00795701e-01,\n",
       "       7.59746581e-02, 7.92109817e-02, 3.20954919e-01, 1.24948539e-01,\n",
       "       3.48396823e-02, 3.83091196e-02, 1.13019265e-01, 2.65970439e-01,\n",
       "       5.86061776e-02, 9.31486785e-02, 1.84232876e-01, 3.15761827e-02,\n",
       "       6.45643398e-02, 4.17645536e-02, 2.76752544e-04, 2.77565094e-04,\n",
       "       4.22179736e-02, 1.19741119e-01, 4.77017798e-02, 4.05420102e-02,\n",
       "       3.68944332e-02, 1.82955489e-01, 4.29746583e-02, 3.49236354e-02,\n",
       "       2.84761935e-02, 2.87429206e-02, 3.84607166e-02, 6.02320544e-02,\n",
       "       1.00000000e+00, 2.96790648e-04, 2.42428128e-02, 2.17862763e-02,\n",
       "       4.07290608e-02, 4.92469668e-02, 2.87195318e-04, 1.79730603e-04,\n",
       "       2.71559256e-04, 2.82942839e-02, 6.56844899e-02, 5.45526780e-02,\n",
       "       1.27146784e-02, 1.48541731e-04, 8.58289078e-02, 6.12139292e-02],\n",
       "      dtype=float32)"
      ]
     },
     "execution_count": 152,
     "metadata": {},
     "output_type": "execute_result"
    }
   ],
   "source": [
    "temp"
   ]
  },
  {
   "cell_type": "code",
   "execution_count": 154,
   "metadata": {},
   "outputs": [],
   "source": [
    "y_pred = np.empty((0,124))\n",
    "cut_off = 0.5\n",
    "for i in range(len(raw_outputs)):\n",
    "    temp = np.max(raw_outputs[i], axis=0)\n",
    "    temp[temp>cut_off] = 1\n",
    "    temp[temp<=cut_off] = 0\n",
    "    y_pred = np.vstack([y_pred,temp])"
   ]
  },
  {
   "cell_type": "code",
   "execution_count": 176,
   "metadata": {},
   "outputs": [],
   "source": [
    "y_true = np.array(eval_df['labels'].tolist())\n",
    "y_true[y_true > 1] = 1"
   ]
  },
  {
   "cell_type": "code",
   "execution_count": 177,
   "metadata": {
    "scrolled": true
   },
   "outputs": [
    {
     "data": {
      "text/plain": [
       "(2882, 124)"
      ]
     },
     "execution_count": 177,
     "metadata": {},
     "output_type": "execute_result"
    }
   ],
   "source": [
    "y_true.shape"
   ]
  },
  {
   "cell_type": "code",
   "execution_count": 178,
   "metadata": {},
   "outputs": [
    {
     "data": {
      "text/plain": [
       "(2882, 124)"
      ]
     },
     "execution_count": 178,
     "metadata": {},
     "output_type": "execute_result"
    }
   ],
   "source": [
    "y_pred.shape"
   ]
  },
  {
   "cell_type": "code",
   "execution_count": 179,
   "metadata": {},
   "outputs": [
    {
     "data": {
      "text/plain": [
       "array([[0., 1., 0., ..., 0., 0., 0.],\n",
       "       [0., 1., 0., ..., 0., 0., 0.],\n",
       "       [1., 1., 1., ..., 0., 0., 0.],\n",
       "       ...,\n",
       "       [0., 1., 0., ..., 0., 0., 0.],\n",
       "       [1., 1., 1., ..., 0., 0., 0.],\n",
       "       [1., 1., 1., ..., 0., 0., 0.]])"
      ]
     },
     "execution_count": 179,
     "metadata": {},
     "output_type": "execute_result"
    }
   ],
   "source": [
    "y_pred"
   ]
  },
  {
   "cell_type": "code",
   "execution_count": 180,
   "metadata": {},
   "outputs": [
    {
     "data": {
      "text/plain": [
       "array([[0., 1., 0., ..., 0., 0., 0.],\n",
       "       [0., 1., 0., ..., 1., 0., 0.],\n",
       "       [1., 0., 1., ..., 0., 0., 0.],\n",
       "       ...,\n",
       "       [0., 1., 0., ..., 0., 0., 0.],\n",
       "       [1., 0., 1., ..., 0., 0., 0.],\n",
       "       [0., 1., 0., ..., 0., 0., 0.]])"
      ]
     },
     "execution_count": 180,
     "metadata": {},
     "output_type": "execute_result"
    }
   ],
   "source": [
    "y_true"
   ]
  },
  {
   "cell_type": "code",
   "execution_count": 183,
   "metadata": {},
   "outputs": [
    {
     "name": "stdout",
     "output_type": "stream",
     "text": [
      "[0.90419806 0.83954097 0.81695389 0.65557316 0.60609388 0.42431762\n",
      " 0.         0.75722294 0.54137931 0.         0.         0.84465825\n",
      " 0.60435835 0.57574909 0.59107291 0.         0.         0.\n",
      " 0.         0.6593674  0.5382193  0.60609388 0.83954097 0.\n",
      " 0.         0.         0.         0.         0.         0.\n",
      " 0.         0.         0.         0.         0.         0.\n",
      " 0.         0.         0.         0.         0.         0.\n",
      " 0.         0.         0.         0.         0.         0.\n",
      " 0.         0.         0.         0.         0.         0.\n",
      " 0.         0.         0.         0.         0.         0.\n",
      " 0.         0.         0.         0.         0.         0.\n",
      " 0.         0.         0.         0.         0.         0.\n",
      " 0.         0.         0.         0.         0.         0.\n",
      " 0.         0.         0.         0.         0.         0.\n",
      " 0.         0.         0.         0.         0.         0.\n",
      " 0.         0.         0.         0.         0.22258065 0.36255572\n",
      " 0.         0.         0.         0.         0.         0.\n",
      " 0.         0.         0.         0.         0.         0.\n",
      " 0.97346394 0.64303178 0.         0.         0.         0.\n",
      " 0.66019417 0.         0.         0.         0.         0.\n",
      " 0.         0.         0.         0.        ]\n"
     ]
    }
   ],
   "source": [
    "print(sklearn.metrics.f1_score(y_true, y_pred, average=None))"
   ]
  },
  {
   "cell_type": "code",
   "execution_count": 185,
   "metadata": {},
   "outputs": [
    {
     "name": "stdout",
     "output_type": "stream",
     "text": [
      "0.11021101808152838\n",
      "0.5653615855660068\n",
      "0.4346269070578652\n",
      "0.5554657191041477\n",
      "[0.90419806 0.83954097 0.81695389 0.65557316 0.60609388 0.42431762\n",
      " 0.         0.75722294 0.54137931 0.         0.         0.84465825\n",
      " 0.60435835 0.57574909 0.59107291 0.         0.         0.\n",
      " 0.         0.6593674  0.5382193  0.60609388 0.83954097 0.\n",
      " 0.         0.         0.         0.         0.         0.\n",
      " 0.         0.         0.         0.         0.         0.\n",
      " 0.         0.         0.         0.         0.         0.\n",
      " 0.         0.         0.         0.         0.         0.\n",
      " 0.         0.         0.         0.         0.         0.\n",
      " 0.         0.         0.         0.         0.         0.\n",
      " 0.         0.         0.         0.         0.         0.\n",
      " 0.         0.         0.         0.         0.         0.\n",
      " 0.         0.         0.         0.         0.         0.\n",
      " 0.         0.         0.         0.         0.         0.\n",
      " 0.         0.         0.         0.         0.         0.\n",
      " 0.         0.         0.         0.         0.22258065 0.36255572\n",
      " 0.         0.         0.         0.         0.         0.\n",
      " 0.         0.         0.         0.         0.         0.\n",
      " 0.97346394 0.64303178 0.         0.         0.         0.\n",
      " 0.66019417 0.         0.         0.         0.         0.\n",
      " 0.         0.         0.         0.        ]\n"
     ]
    }
   ],
   "source": [
    "print(sklearn.metrics.f1_score(y_true, y_pred, average='macro'))\n",
    "\n",
    "print(sklearn.metrics.f1_score(y_true, y_pred, average='micro'))\n",
    "\n",
    "print(sklearn.metrics.f1_score(y_true, y_pred, average='weighted'))\n",
    "\n",
    "print(sklearn.metrics.f1_score(y_true, y_pred, average='samples', zero_division=1))\n",
    "\n",
    "print(sklearn.metrics.f1_score(y_true, y_pred, average=None))"
   ]
  }
 ],
 "metadata": {
  "kernelspec": {
   "display_name": "Python 3",
   "language": "python",
   "name": "python3"
  },
  "language_info": {
   "codemirror_mode": {
    "name": "ipython",
    "version": 3
   },
   "file_extension": ".py",
   "mimetype": "text/x-python",
   "name": "python",
   "nbconvert_exporter": "python",
   "pygments_lexer": "ipython3",
   "version": "3.7.6"
  }
 },
 "nbformat": 4,
 "nbformat_minor": 4
}
